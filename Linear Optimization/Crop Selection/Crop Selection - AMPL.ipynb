{
 "cells": [
  {
   "cell_type": "code",
   "execution_count": 1,
   "metadata": {
    "id": "NNisOr-wWzHV"
   },
   "outputs": [],
   "source": [
    "# A farmer owns 60 acres of land. She can plant either wheat or corn. Based on current predictions, wheat will yield a profit of $200/acre while corn yields a profit of $300/acre.\n",
    "# Each planted acre uses fertilizer and labor, wheat using 2 tons of fertilizer and 3 hours of worker time; corn using 4 tons of fertilizer and 2 hours of worker time.\n",
    "# There are 100 hours of worker time and 120 tons of fertilizer available (costs of which are already included in the profit calculation).\n",
    "# How should the farmer divide her land?"
   ]
  },
  {
   "cell_type": "code",
   "execution_count": 2,
   "metadata": {
    "colab": {
     "base_uri": "https://localhost:8080/"
    },
    "executionInfo": {
     "elapsed": 7662,
     "status": "ok",
     "timestamp": 1734117039497,
     "user": {
      "displayName": "Omkar Chandhere",
      "userId": "12375456355289425575"
     },
     "user_tz": 300
    },
    "id": "2ACWP2bXW-Wy",
    "outputId": "2de85a1e-b78f-4906-a6fe-30b7b12bcb33"
   },
   "outputs": [
    {
     "name": "stdout",
     "output_type": "stream",
     "text": [
      "Note: you may need to restart the kernel to use updated packages.\n",
      "Licensed to AMPL Community Edition License for <omkarnc@umich.edu>.\n"
     ]
    }
   ],
   "source": [
    "%pip install -q amplpy\n",
    "from amplpy import AMPL, ampl_notebook\n",
    "ampl = ampl_notebook(\n",
    "    modules=[\"highs\", \"cbc\", \"gurobi\", \"cplex\"], # pick from over 20 modules including most commercial and open-source solvers\n",
    "    license_uuid=\"d28bae8e-77ef-4166-9e42-b0ab0d296546\") # your license UUID (e.g., free ampl.com/ce or ampl.com/courses licenses)"
   ]
  },
  {
   "cell_type": "code",
   "execution_count": 3,
   "metadata": {
    "colab": {
     "base_uri": "https://localhost:8080/",
     "height": 205
    },
    "executionInfo": {
     "elapsed": 6208,
     "status": "ok",
     "timestamp": 1734117295199,
     "user": {
      "displayName": "Omkar Chandhere",
      "userId": "12375456355289425575"
     },
     "user_tz": 300
    },
    "id": "8Pxxx_ufceTW",
    "outputId": "6e5e3d9f-3b01-4a66-fbf8-518d1e9fe15d"
   },
   "outputs": [],
   "source": [
    "# from google.colab import files\n",
    "# files.upload()"
   ]
  },
  {
   "cell_type": "code",
   "execution_count": 4,
   "metadata": {
    "executionInfo": {
     "elapsed": 96,
     "status": "ok",
     "timestamp": 1734117510954,
     "user": {
      "displayName": "Omkar Chandhere",
      "userId": "12375456355289425575"
     },
     "user_tz": 300
    },
    "id": "d_WSqC7Rbgjw"
   },
   "outputs": [],
   "source": [
    "# Optionally, choose a solver (you can use 'cplex', 'gurobi', 'highs', etc.)\n",
    "ampl.setOption('solver', 'highs')"
   ]
  },
  {
   "cell_type": "code",
   "execution_count": 5,
   "metadata": {
    "executionInfo": {
     "elapsed": 122,
     "status": "ok",
     "timestamp": 1734117538682,
     "user": {
      "displayName": "Omkar Chandhere",
      "userId": "12375456355289425575"
     },
     "user_tz": 300
    },
    "id": "Q5S9qdt6dbLH"
   },
   "outputs": [],
   "source": [
    "# Clear all previous declarations\n",
    "ampl.reset()"
   ]
  },
  {
   "cell_type": "code",
   "execution_count": 27,
   "metadata": {
    "colab": {
     "base_uri": "https://localhost:8080/"
    },
    "executionInfo": {
     "elapsed": 531,
     "status": "ok",
     "timestamp": 1734117541490,
     "user": {
      "displayName": "Omkar Chandhere",
      "userId": "12375456355289425575"
     },
     "user_tz": 300
    },
    "id": "bdM60w9PW_H-",
    "outputId": "ed965c64-dce2-4fb4-8aec-cfe09addd219"
   },
   "outputs": [
    {
     "name": "stdout",
     "output_type": "stream",
     "text": [
      "HiGHS 1.8.1: "
     ]
    }
   ],
   "source": [
    "# Define the corrected AMPL model\n",
    "ampl.eval(\"\"\"\n",
    "# Declare parameters\n",
    "param profit_Wheat := 200;\n",
    "param profit_Corn := 300;\n",
    "\n",
    "param labor_Wheat := 3;            # Labor hours per unit of Wheat\n",
    "param labor_Corn := 2;             # Labor hours per unit of Corn\n",
    "param fertilizer_Wheat := 2;       # Fertilizer units per unit of Wheat\n",
    "param fertilizer_Corn := 4;        # Fertilizer units per unit of Corn\n",
    "\n",
    "param labor_available := 100;      # Total labor available\n",
    "param fertilizer_available := 120; # Total fertilizer available\n",
    "param acres_available := 60;       # Total acres available\n",
    "\n",
    "# Declare decision variables\n",
    "var x >= 0;  # Number of units of Wheat to produce\n",
    "var y >= 0;  # Number of units of Corn to produce\n",
    "\n",
    "# Objective function: Maximize profit\n",
    "maximize Total_Profit: profit_Wheat * x + profit_Corn * y;\n",
    "\n",
    "# Constraints\n",
    "subject to Labor_Constraint:\n",
    "    labor_Wheat * x + labor_Corn * y <= labor_available;\n",
    "\n",
    "subject to Fertilizer_Constraint:\n",
    "    fertilizer_Wheat * x + fertilizer_Corn * y <= fertilizer_available;\n",
    "\n",
    "subject to Acreage_Constraint:\n",
    "    x + y <= acres_available;\n",
    "\"\"\")\n",
    "\n",
    "# Solve the model\n",
    "ampl.solve()\n",
    "\n",
    "# Display results\n",
    "print(\"Optimal production of Wheat:\", ampl.getVariable('x').value())\n",
    "print(\"Optimal production of Corn:\", ampl.getVariable('y').value())\n",
    "print(\"Total Profit:\", ampl.getObjective('Total_Profit').value())"
   ]
  },
  {
   "cell_type": "code",
   "execution_count": null,
   "metadata": {
    "id": "faIAcGsjW_Ph"
   },
   "outputs": [],
   "source": []
  },
  {
   "cell_type": "code",
   "execution_count": null,
   "metadata": {
    "id": "xDRb0hooW_UZ"
   },
   "outputs": [],
   "source": []
  },
  {
   "cell_type": "code",
   "execution_count": null,
   "metadata": {
    "id": "qiUeIfGjW_aX"
   },
   "outputs": [],
   "source": []
  },
  {
   "cell_type": "code",
   "execution_count": null,
   "metadata": {
    "id": "xml1lISSW_hB"
   },
   "outputs": [],
   "source": []
  },
  {
   "cell_type": "code",
   "execution_count": null,
   "metadata": {
    "id": "FYMq37D6W_ln"
   },
   "outputs": [],
   "source": []
  },
  {
   "cell_type": "code",
   "execution_count": null,
   "metadata": {
    "id": "7qgD9P42W_p0"
   },
   "outputs": [],
   "source": []
  },
  {
   "cell_type": "code",
   "execution_count": null,
   "metadata": {
    "id": "tAxIodgRW_tt"
   },
   "outputs": [],
   "source": []
  },
  {
   "cell_type": "code",
   "execution_count": null,
   "metadata": {
    "id": "olefYaLfW_yQ"
   },
   "outputs": [],
   "source": []
  }
 ],
 "metadata": {
  "colab": {
   "authorship_tag": "ABX9TyPFKT8phsE1j/8QKTiWuDzP",
   "provenance": []
  },
  "kernelspec": {
   "display_name": "base",
   "language": "python",
   "name": "python3"
  },
  "language_info": {
   "codemirror_mode": {
    "name": "ipython",
    "version": 3
   },
   "file_extension": ".py",
   "mimetype": "text/x-python",
   "name": "python",
   "nbconvert_exporter": "python",
   "pygments_lexer": "ipython3",
   "version": "3.12.4"
  }
 },
 "nbformat": 4,
 "nbformat_minor": 0
}
