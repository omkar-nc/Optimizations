{
 "cells": [
  {
   "cell_type": "code",
   "execution_count": 1,
   "metadata": {
    "colab": {
     "base_uri": "https://localhost:8080/"
    },
    "executionInfo": {
     "elapsed": 3011,
     "status": "ok",
     "timestamp": 1734115243439,
     "user": {
      "displayName": "Omkar Chandhere",
      "userId": "12375456355289425575"
     },
     "user_tz": 300
    },
    "id": "M_0dusJMLjkO",
    "outputId": "edd26b45-880f-4655-a039-6ea14c6733dc"
   },
   "outputs": [
    {
     "name": "stdout",
     "output_type": "stream",
     "text": [
      "Requirement already satisfied: pulp in c:\\users\\omkar\\anaconda3\\lib\\site-packages (2.9.0)\n",
      "Note: you may need to restart the kernel to use updated packages.\n"
     ]
    }
   ],
   "source": [
    "pip install pulp"
   ]
  },
  {
   "cell_type": "code",
   "execution_count": 2,
   "metadata": {
    "executionInfo": {
     "elapsed": 4,
     "status": "ok",
     "timestamp": 1734115243439,
     "user": {
      "displayName": "Omkar Chandhere",
      "userId": "12375456355289425575"
     },
     "user_tz": 300
    },
    "id": "aoFoXQkYLjod"
   },
   "outputs": [],
   "source": [
    "from pulp import LpMaximize, LpProblem, LpVariable"
   ]
  },
  {
   "cell_type": "code",
   "execution_count": 3,
   "metadata": {
    "executionInfo": {
     "elapsed": 4,
     "status": "ok",
     "timestamp": 1734115243439,
     "user": {
      "displayName": "Omkar Chandhere",
      "userId": "12375456355289425575"
     },
     "user_tz": 300
    },
    "id": "DDOvDwlDLjsT"
   },
   "outputs": [],
   "source": [
    "# Problem Description\n",
    "# A factory produces Product A and Product B:\n",
    "\n",
    "# Product A yields a profit of $40 per unit.\n",
    "# Product B yields a profit of $30 per unit.\n",
    "# Constraints:\n",
    "\n",
    "# Each unit of Product A requires 1 hour of labor and 2 units of material.\n",
    "# Each unit of Product B requires 2 hours of labor and 1 unit of material.\n",
    "# The factory has a maximum of 100 hours of labor available.\n",
    "# The factory has a maximum of 80 units of material available.\n",
    "# The goal is to maximize profit."
   ]
  },
  {
   "cell_type": "code",
   "execution_count": 4,
   "metadata": {
    "colab": {
     "base_uri": "https://localhost:8080/"
    },
    "executionInfo": {
     "elapsed": 4,
     "status": "ok",
     "timestamp": 1734115243439,
     "user": {
      "displayName": "Omkar Chandhere",
      "userId": "12375456355289425575"
     },
     "user_tz": 300
    },
    "id": "IoGALOC3Ljv0",
    "outputId": "02f2c89e-31ef-426e-f80e-4e92c7417367"
   },
   "outputs": [
    {
     "name": "stdout",
     "output_type": "stream",
     "text": [
      "Optimal production of Product A: 20.0\n",
      "Optimal production of Product B: 40.0\n",
      "Total Profit: $2000.0\n"
     ]
    }
   ],
   "source": [
    "# Create the problem\n",
    "model = LpProblem(name=\"maximize_profit\", sense=LpMaximize)\n",
    "\n",
    "# Define variables\n",
    "x = LpVariable(name=\"Product_A\", lowBound=0)\n",
    "y = LpVariable(name=\"Product_B\", lowBound=0)\n",
    "\n",
    "# Objective function: Maximize profit\n",
    "model += 40 * x + 30 * y, \"Total_Profit\"\n",
    "\n",
    "# Constraints\n",
    "model += x + 2 * y <= 100, \"Labor_Constraint\"\n",
    "model += 2 * x + y <= 80, \"Material_Constraint\"\n",
    "\n",
    "# Solve the problem\n",
    "status = model.solve()\n",
    "\n",
    "# Output results\n",
    "print(f\"Optimal production of Product A: {x.value()}\")\n",
    "print(f\"Optimal production of Product B: {y.value()}\")\n",
    "print(f\"Total Profit: ${model.objective.value()}\")"
   ]
  }
 ],
 "metadata": {
  "colab": {
   "authorship_tag": "ABX9TyN+dnZyOWkVTONU/MiTNAy9",
   "provenance": []
  },
  "kernelspec": {
   "display_name": "base",
   "language": "python",
   "name": "python3"
  },
  "language_info": {
   "codemirror_mode": {
    "name": "ipython",
    "version": 3
   },
   "file_extension": ".py",
   "mimetype": "text/x-python",
   "name": "python",
   "nbconvert_exporter": "python",
   "pygments_lexer": "ipython3",
   "version": "3.12.4"
  }
 },
 "nbformat": 4,
 "nbformat_minor": 0
}
