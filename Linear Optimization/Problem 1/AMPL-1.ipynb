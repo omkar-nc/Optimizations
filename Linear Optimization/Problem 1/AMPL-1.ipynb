{
 "cells": [
  {
   "cell_type": "code",
   "execution_count": null,
   "metadata": {
    "id": "039kMfFRHgCp"
   },
   "outputs": [],
   "source": [
    "# Problem Description\n",
    "# A factory produces Product A and Product B:\n",
    "\n",
    "# Product A yields a profit of $40 per unit.\n",
    "# Product B yields a profit of $30 per unit.\n",
    "# Constraints:\n",
    "\n",
    "# Each unit of Product A requires 1 hour of labor and 2 units of material.\n",
    "# Each unit of Product B requires 2 hours of labor and 1 unit of material.\n",
    "# The factory has a maximum of 100 hours of labor available.\n",
    "# The factory has a maximum of 80 units of material available.\n",
    "# The goal is to maximize profit."
   ]
  },
  {
   "cell_type": "code",
   "execution_count": 1,
   "metadata": {
    "colab": {
     "base_uri": "https://localhost:8080/"
    },
    "executionInfo": {
     "elapsed": 15796,
     "status": "ok",
     "timestamp": 1734117499355,
     "user": {
      "displayName": "Omkar Chandhere",
      "userId": "12375456355289425575"
     },
     "user_tz": 300
    },
    "id": "WXA_bTjG5klV",
    "outputId": "101212e2-d145-43b0-b28a-ced44bfcbd64"
   },
   "outputs": [
    {
     "name": "stdout",
     "output_type": "stream",
     "text": [
      "Note: you may need to restart the kernel to use updated packages.\n",
      "Licensed to AMPL Community Edition License for <omkarnc@umich.edu>.\n"
     ]
    }
   ],
   "source": [
    "%pip install -q amplpy\n",
    "from amplpy import AMPL, ampl_notebook\n",
    "ampl = ampl_notebook(\n",
    "    modules=[\"highs\", \"cbc\", \"gurobi\", \"cplex\"], # pick from over 20 modules including most commercial and open-source solvers\n",
    "    license_uuid=\"d28bae8e-77ef-4166-9e42-b0ab0d296546\") # your license UUID (e.g., free ampl.com/ce or ampl.com/courses licenses)"
   ]
  },
  {
   "cell_type": "code",
   "execution_count": null,
   "metadata": {
    "colab": {
     "base_uri": "https://localhost:8080/",
     "height": 193
    },
    "executionInfo": {
     "elapsed": 33740,
     "status": "ok",
     "timestamp": 1734114401157,
     "user": {
      "displayName": "Omkar Chandhere",
      "userId": "12375456355289425575"
     },
     "user_tz": 300
    },
    "id": "VNDK31ESRUxM",
    "outputId": "ac3c6291-3e67-473e-d39a-f5e9eddb8aaa"
   },
   "outputs": [
    {
     "data": {
      "text/html": [
       "\n",
       "     <input type=\"file\" id=\"files-32d2b421-ea36-4310-abf5-c4b52b661058\" name=\"files[]\" multiple disabled\n",
       "        style=\"border:none\" />\n",
       "     <output id=\"result-32d2b421-ea36-4310-abf5-c4b52b661058\">\n",
       "      Upload widget is only available when the cell has been executed in the\n",
       "      current browser session. Please rerun this cell to enable.\n",
       "      </output>\n",
       "      <script>// Copyright 2017 Google LLC\n",
       "//\n",
       "// Licensed under the Apache License, Version 2.0 (the \"License\");\n",
       "// you may not use this file except in compliance with the License.\n",
       "// You may obtain a copy of the License at\n",
       "//\n",
       "//      http://www.apache.org/licenses/LICENSE-2.0\n",
       "//\n",
       "// Unless required by applicable law or agreed to in writing, software\n",
       "// distributed under the License is distributed on an \"AS IS\" BASIS,\n",
       "// WITHOUT WARRANTIES OR CONDITIONS OF ANY KIND, either express or implied.\n",
       "// See the License for the specific language governing permissions and\n",
       "// limitations under the License.\n",
       "\n",
       "/**\n",
       " * @fileoverview Helpers for google.colab Python module.\n",
       " */\n",
       "(function(scope) {\n",
       "function span(text, styleAttributes = {}) {\n",
       "  const element = document.createElement('span');\n",
       "  element.textContent = text;\n",
       "  for (const key of Object.keys(styleAttributes)) {\n",
       "    element.style[key] = styleAttributes[key];\n",
       "  }\n",
       "  return element;\n",
       "}\n",
       "\n",
       "// Max number of bytes which will be uploaded at a time.\n",
       "const MAX_PAYLOAD_SIZE = 100 * 1024;\n",
       "\n",
       "function _uploadFiles(inputId, outputId) {\n",
       "  const steps = uploadFilesStep(inputId, outputId);\n",
       "  const outputElement = document.getElementById(outputId);\n",
       "  // Cache steps on the outputElement to make it available for the next call\n",
       "  // to uploadFilesContinue from Python.\n",
       "  outputElement.steps = steps;\n",
       "\n",
       "  return _uploadFilesContinue(outputId);\n",
       "}\n",
       "\n",
       "// This is roughly an async generator (not supported in the browser yet),\n",
       "// where there are multiple asynchronous steps and the Python side is going\n",
       "// to poll for completion of each step.\n",
       "// This uses a Promise to block the python side on completion of each step,\n",
       "// then passes the result of the previous step as the input to the next step.\n",
       "function _uploadFilesContinue(outputId) {\n",
       "  const outputElement = document.getElementById(outputId);\n",
       "  const steps = outputElement.steps;\n",
       "\n",
       "  const next = steps.next(outputElement.lastPromiseValue);\n",
       "  return Promise.resolve(next.value.promise).then((value) => {\n",
       "    // Cache the last promise value to make it available to the next\n",
       "    // step of the generator.\n",
       "    outputElement.lastPromiseValue = value;\n",
       "    return next.value.response;\n",
       "  });\n",
       "}\n",
       "\n",
       "/**\n",
       " * Generator function which is called between each async step of the upload\n",
       " * process.\n",
       " * @param {string} inputId Element ID of the input file picker element.\n",
       " * @param {string} outputId Element ID of the output display.\n",
       " * @return {!Iterable<!Object>} Iterable of next steps.\n",
       " */\n",
       "function* uploadFilesStep(inputId, outputId) {\n",
       "  const inputElement = document.getElementById(inputId);\n",
       "  inputElement.disabled = false;\n",
       "\n",
       "  const outputElement = document.getElementById(outputId);\n",
       "  outputElement.innerHTML = '';\n",
       "\n",
       "  const pickedPromise = new Promise((resolve) => {\n",
       "    inputElement.addEventListener('change', (e) => {\n",
       "      resolve(e.target.files);\n",
       "    });\n",
       "  });\n",
       "\n",
       "  const cancel = document.createElement('button');\n",
       "  inputElement.parentElement.appendChild(cancel);\n",
       "  cancel.textContent = 'Cancel upload';\n",
       "  const cancelPromise = new Promise((resolve) => {\n",
       "    cancel.onclick = () => {\n",
       "      resolve(null);\n",
       "    };\n",
       "  });\n",
       "\n",
       "  // Wait for the user to pick the files.\n",
       "  const files = yield {\n",
       "    promise: Promise.race([pickedPromise, cancelPromise]),\n",
       "    response: {\n",
       "      action: 'starting',\n",
       "    }\n",
       "  };\n",
       "\n",
       "  cancel.remove();\n",
       "\n",
       "  // Disable the input element since further picks are not allowed.\n",
       "  inputElement.disabled = true;\n",
       "\n",
       "  if (!files) {\n",
       "    return {\n",
       "      response: {\n",
       "        action: 'complete',\n",
       "      }\n",
       "    };\n",
       "  }\n",
       "\n",
       "  for (const file of files) {\n",
       "    const li = document.createElement('li');\n",
       "    li.append(span(file.name, {fontWeight: 'bold'}));\n",
       "    li.append(span(\n",
       "        `(${file.type || 'n/a'}) - ${file.size} bytes, ` +\n",
       "        `last modified: ${\n",
       "            file.lastModifiedDate ? file.lastModifiedDate.toLocaleDateString() :\n",
       "                                    'n/a'} - `));\n",
       "    const percent = span('0% done');\n",
       "    li.appendChild(percent);\n",
       "\n",
       "    outputElement.appendChild(li);\n",
       "\n",
       "    const fileDataPromise = new Promise((resolve) => {\n",
       "      const reader = new FileReader();\n",
       "      reader.onload = (e) => {\n",
       "        resolve(e.target.result);\n",
       "      };\n",
       "      reader.readAsArrayBuffer(file);\n",
       "    });\n",
       "    // Wait for the data to be ready.\n",
       "    let fileData = yield {\n",
       "      promise: fileDataPromise,\n",
       "      response: {\n",
       "        action: 'continue',\n",
       "      }\n",
       "    };\n",
       "\n",
       "    // Use a chunked sending to avoid message size limits. See b/62115660.\n",
       "    let position = 0;\n",
       "    do {\n",
       "      const length = Math.min(fileData.byteLength - position, MAX_PAYLOAD_SIZE);\n",
       "      const chunk = new Uint8Array(fileData, position, length);\n",
       "      position += length;\n",
       "\n",
       "      const base64 = btoa(String.fromCharCode.apply(null, chunk));\n",
       "      yield {\n",
       "        response: {\n",
       "          action: 'append',\n",
       "          file: file.name,\n",
       "          data: base64,\n",
       "        },\n",
       "      };\n",
       "\n",
       "      let percentDone = fileData.byteLength === 0 ?\n",
       "          100 :\n",
       "          Math.round((position / fileData.byteLength) * 100);\n",
       "      percent.textContent = `${percentDone}% done`;\n",
       "\n",
       "    } while (position < fileData.byteLength);\n",
       "  }\n",
       "\n",
       "  // All done.\n",
       "  yield {\n",
       "    response: {\n",
       "      action: 'complete',\n",
       "    }\n",
       "  };\n",
       "}\n",
       "\n",
       "scope.google = scope.google || {};\n",
       "scope.google.colab = scope.google.colab || {};\n",
       "scope.google.colab._files = {\n",
       "  _uploadFiles,\n",
       "  _uploadFilesContinue,\n",
       "};\n",
       "})(self);\n",
       "</script> "
      ],
      "text/plain": [
       "<IPython.core.display.HTML object>"
      ]
     },
     "metadata": {},
     "output_type": "display_data"
    },
    {
     "name": "stdout",
     "output_type": "stream",
     "text": [
      "Saving ampl.lic to ampl.lic\n"
     ]
    },
    {
     "data": {
      "text/plain": [
       "{'ampl.lic': b'# Temporary CPLEX, GUROBI, XPRESS, COPT, MOSEK, XPRESSGLOBAL, AMPL,\\n# BARON, CONOPT, KNITRO, LGO, LINDOGLOBAL, LOQO, MINOS, SNOPT & OCTERACT\\n# single-machine server license expiring 20251213 (CPLEX, GUROBI, XPRESS,\\n# COPT, MOSEK, XPRESSGLOBAL), 20250113 (AMPL, BARON, CONOPT, KNITRO, LGO,\\n# LINDOGLOBAL, LOQO, MINOS, SNOPT, OCTERACT)\\n# licensed to AMPL Community Edition License for <omkarnc@umich.edu>:\\n675be140 57f315c0 1b9773d8 21a2a1cf b1762fb7 3113a21b 55f3d78c 821fd316\\nb7625ae5 15b0c811 79317d68 a212a6d4 b7130f6f b6e02b97 dcd3c2a2 62a48382\\n2453873d 8554e06e 2f287ab5 d37c4d98 32616c19 146794e4 d93a19ad 543e2522\\n4297a990 a017c2c8 13437c3f 56a90f81 b21b62d7 943568e6 ac720e41 4180eab2\\n834943e6 d5312d76 fcacc4e7 f383d0e0 8692ad71 a787a64d d289ed8b f0bd0e2f\\n40c5238a 778f56b1 8d46cf44 550b0a41 7316b0d0 4e5b1ba4 1d1c8c85 fcf06181\\n9153cac3 6a1f9bc0 345b9522 9674449d cd56fc36 7c629fc3 966ac246 2e0326e2\\nf1f34f44 aead9fb5 29c75fd4 d493ff1f b4be9066 3d088f62 43a65125 05658aa1\\n9cd48bb2 8df560c1 8a02c4d3 b346ee78 55a0ef70 0bd98c43 ce3fd587 1c940e97\\nb605b9a7 661076d7 301b9420 9fd076b6 6f1d02a4 06c28ad5 be36a261 39401dfb\\n21ca4734 9dd56340 a83506f2 ea36c299 e629e406 d00f9f87 955b3041 ba71f045\\n1199d4a7 15eae1b1 f7b7c515 6bd4059b ba457a50 bfcb2ab2 9cbc8543 81a5a385\\n1b6463a4 a4fdc826 68bad650 0f658b16 de0bb107 df48dac5 31184084 6ac76a46\\nca28aca7 15647256 d7f77666 9477425f f5d8a252 9142e497 cd317903 76953804\\ncb134793 075323d0 b61ff363 ae640cd7 7ff02091 18b8ad42 0b43ae03 1b31fd1d\\nffca9984 9220df27 e6704b46 9ca378d0 65ae9814 4d94f2e2 183b4a63 ea65ceff\\n760d8627 d3e4da02 e5c2ca04 a3e6a2f9 b0699a70 8ae8f912 5cd27162 a3e430c0\\n08f69f30 1348f53f 1ff323f9 323e20f5 294f1b14 fb240675 bd7c328b e4db3041\\n4cb26131 ea255085 e5ada698 fa65f7c4 229d28fa 8efdc3ba d1a14371 637ab324\\nf59d89e3 8949115e 731ca733 0799c3c2 f98efd77 c82c510c e1cf93cb 10de2500\\n449bea6d fba0d108 b442e467 8e634723 4d282c52 95ffb53e 497f54e6 a793e4b5\\n5997eb50 9742c2b9 5b7f97a2 434f6185 818fbe7c 6d19873b d2c3b651 2774d2a5\\ne128a09f 7eaf1424 7724d2f2 10842473 18890d24 bd9c8344 a879f40a 2328b566\\n7b97851f 5e70da23 f511a8f2 6d\\n'}"
      ]
     },
     "execution_count": 28,
     "metadata": {},
     "output_type": "execute_result"
    }
   ],
   "source": [
    "# from google.colab import files\n",
    "# files.upload()"
   ]
  },
  {
   "cell_type": "code",
   "execution_count": 2,
   "metadata": {
    "executionInfo": {
     "elapsed": 3,
     "status": "ok",
     "timestamp": 1734117499356,
     "user": {
      "displayName": "Omkar Chandhere",
      "userId": "12375456355289425575"
     },
     "user_tz": 300
    },
    "id": "-B5Lnb14Mboz"
   },
   "outputs": [],
   "source": [
    "# Optionally, choose a solver (you can use 'cplex', 'gurobi', 'highs', etc.)\n",
    "ampl.setOption('solver', 'highs')"
   ]
  },
  {
   "cell_type": "code",
   "execution_count": 3,
   "metadata": {
    "colab": {
     "base_uri": "https://localhost:8080/"
    },
    "executionInfo": {
     "elapsed": 219,
     "status": "ok",
     "timestamp": 1734117500874,
     "user": {
      "displayName": "Omkar Chandhere",
      "userId": "12375456355289425575"
     },
     "user_tz": 300
    },
    "id": "9hqXkMo_JdLz",
    "outputId": "6c3a8376-0957-43cb-c614-f5f151172ee5"
   },
   "outputs": [
    {
     "name": "stdout",
     "output_type": "stream",
     "text": [
      "HiGHS 1.8.1:HiGHS 1.8.1: optimal solution; objective 2000\n",
      "2 simplex iterations\n",
      "0 barrier iterations\n",
      "Optimal production of Product A: 20.0\n",
      "Optimal production of Product B: 40.0\n",
      "Total Profit: 2000.0\n"
     ]
    }
   ],
   "source": [
    "# Define the AMPL model\n",
    "ampl.eval(\"\"\"\n",
    "# Declare parameters\n",
    "param profit_A := 40;\n",
    "param profit_B := 30;\n",
    "\n",
    "param labor_A := 1;        # Labor hours per unit of Product A\n",
    "param labor_B := 2;        # Labor hours per unit of Product B\n",
    "param material_A := 2;     # Material units per unit of Product A\n",
    "param material_B := 1;     # Material units per unit of Product B\n",
    "\n",
    "param labor_available := 100;       # Total labor available\n",
    "param material_available := 80;     # Total material available\n",
    "\n",
    "# Declare decision variables\n",
    "var x >= 0;     # Number of units of Product A to produce\n",
    "var y >= 0;     # Number of units of Product B to produce\n",
    "\n",
    "# Objective function: Maximize profit\n",
    "maximize Total_Profit: profit_A * x + profit_B * y;\n",
    "\n",
    "# Constraints\n",
    "subject to Labor_Constraint:\n",
    "    labor_A * x + labor_B * y <= labor_available;\n",
    "\n",
    "subject to Material_Constraint:\n",
    "    material_A * x + material_B * y <= material_available;\n",
    "\"\"\")\n",
    "\n",
    "# Solve the model\n",
    "ampl.solve()\n",
    "\n",
    "# Display results\n",
    "print(\"Optimal production of Product A:\", ampl.getVariable('x').value())\n",
    "print(\"Optimal production of Product B:\", ampl.getVariable('y').value())\n",
    "print(\"Total Profit:\", ampl.getObjective('Total_Profit').value())"
   ]
  },
  {
   "cell_type": "code",
   "execution_count": null,
   "metadata": {
    "id": "-LRCINQAJdOB"
   },
   "outputs": [],
   "source": []
  }
 ],
 "metadata": {
  "colab": {
   "authorship_tag": "ABX9TyNphMDZLacUQ7eXSTIVo5we",
   "provenance": []
  },
  "kernelspec": {
   "display_name": "base",
   "language": "python",
   "name": "python3"
  },
  "language_info": {
   "codemirror_mode": {
    "name": "ipython",
    "version": 3
   },
   "file_extension": ".py",
   "mimetype": "text/x-python",
   "name": "python",
   "nbconvert_exporter": "python",
   "pygments_lexer": "ipython3",
   "version": "3.12.4"
  }
 },
 "nbformat": 4,
 "nbformat_minor": 0
}
